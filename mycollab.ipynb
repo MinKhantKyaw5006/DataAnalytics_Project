{
  "cells": [
    {
      "cell_type": "markdown",
      "metadata": {},
      "source": [
        "# Big Data Analytics Project "
      ]
    },
    {
      "cell_type": "code",
      "execution_count": 5,
      "metadata": {
        "colab": {
          "base_uri": "https://localhost:8080/"
        },
        "id": "Zq0kf8lxiInp",
        "outputId": "f4f7cf03-7845-4fec-ab55-b60a476a02ed"
      },
      "outputs": [],
      "source": [
        "import pandas as pd\n",
        "\n",
        "# Load the JSON file into a Pandas DataFrame\n",
        "salesdf = pd.read_json('sales.json', lines=True)\n"
      ]
    },
    {
      "cell_type": "code",
      "execution_count": 6,
      "metadata": {
        "colab": {
          "base_uri": "https://localhost:8080/"
        },
        "id": "jvmbjKEKjSCR",
        "outputId": "38aab6cc-0aea-4f6a-fb46-347a30a69e17"
      },
      "outputs": [
        {
          "name": "stdout",
          "output_type": "stream",
          "text": [
            "Requirement already satisfied: pandas in c:\\users\\user\\appdata\\local\\programs\\python\\python311\\lib\\site-packages (2.0.2)\n",
            "Requirement already satisfied: python-dateutil>=2.8.2 in c:\\users\\user\\appdata\\local\\programs\\python\\python311\\lib\\site-packages (from pandas) (2.8.2)\n",
            "Requirement already satisfied: pytz>=2020.1 in c:\\users\\user\\appdata\\local\\programs\\python\\python311\\lib\\site-packages (from pandas) (2023.3.post1)\n",
            "Requirement already satisfied: tzdata>=2022.1 in c:\\users\\user\\appdata\\local\\programs\\python\\python311\\lib\\site-packages (from pandas) (2023.3)\n",
            "Requirement already satisfied: numpy>=1.21.0 in c:\\users\\user\\appdata\\local\\programs\\python\\python311\\lib\\site-packages (from pandas) (1.24.3)\n",
            "Requirement already satisfied: six>=1.5 in c:\\users\\user\\appdata\\local\\programs\\python\\python311\\lib\\site-packages (from python-dateutil>=2.8.2->pandas) (1.16.0)\n"
          ]
        }
      ],
      "source": [
        "!pip install pandas"
      ]
    },
    {
      "cell_type": "code",
      "execution_count": 7,
      "metadata": {
        "colab": {
          "base_uri": "https://localhost:8080/"
        },
        "id": "0IWh2OyFjWvR",
        "outputId": "266e34cb-4872-4584-8ab4-a26779f8ab2e"
      },
      "outputs": [
        {
          "name": "stdout",
          "output_type": "stream",
          "text": [
            "Number of Rows: 5000\n",
            "Number of Columns: 7\n"
          ]
        }
      ],
      "source": [
        "num_rows, num_columns = salesdf.shape\n",
        "\n",
        "print(f\"Number of Rows: {num_rows}\")\n",
        "print(f\"Number of Columns: {num_columns}\")"
      ]
    },
    {
      "cell_type": "code",
      "execution_count": 9,
      "metadata": {
        "id": "hY6D29MEjfTK"
      },
      "outputs": [
        {
          "data": {
            "text/html": [
              "\n",
              "    <style>\n",
              "        .customtable {\n",
              "            border-collapse: collapse;\n",
              "            width: 100%;\n",
              "        }\n",
              "        .customtable th {\n",
              "            background-color: #4e20ce; /* background color for header */\n",
              "            color: white; /* White text color for header */\n",
              "            border: 1px solid black;\n",
              "            padding: 8px;\n",
              "            text-align: left;\n",
              "        }\n",
              "        .customtable td {\n",
              "            border: 1px solid black;\n",
              "            padding: 8px;\n",
              "            text-align: left;\n",
              "        }\n",
              "    </style>\n",
              "<table border=\"1\" class=\"dataframe customtable\">\n",
              "  <thead>\n",
              "    <tr style=\"text-align: right;\">\n",
              "      <th>_id</th>\n",
              "      <th>saleDate</th>\n",
              "      <th>items</th>\n",
              "      <th>storeLocation</th>\n",
              "      <th>customer</th>\n",
              "      <th>couponUsed</th>\n",
              "      <th>purchaseMethod</th>\n",
              "    </tr>\n",
              "  </thead>\n",
              "  <tbody>\n",
              "    <tr>\n",
              "      <td>{'$oid': '5bd761dcae323e45a93ccfe8'}</td>\n",
              "      <td>{'$date': '2015-03-23T21:06:49.506Z'}</td>\n",
              "      <td>[{'name': 'printer paper', 'tags': ['office', 'stationary'], 'price': {'$numberDecimal': '40.01'}, 'quantity': 2}, {'name': 'notepad', 'tags': ['office', 'writing', 'school'], 'price': {'$numberDecimal': '35.29'}, 'quantity': 2}, {'name': 'pens', 'tags': ['writing', 'office', 'school', 'stationary'], 'price': {'$numberDecimal': '56.12'}, 'quantity': 5}, {'name': 'backpack', 'tags': ['school', 'travel', 'kids'], 'price': {'$numberDecimal': '77.71'}, 'quantity': 2}, {'name': 'notepad', 'tags': ['office', 'writing', 'school'], 'price': {'$numberDecimal': '18.47'}, 'quantity': 2}, {'name': 'envelopes', 'tags': ['stationary', 'office', 'general'], 'price': {'$numberDecimal': '19.95'}, 'quantity': 8}, {'name': 'envelopes', 'tags': ['stationary', 'office', 'general'], 'price': {'$numberDecimal': '8.08'}, 'quantity': 3}, {'name': 'binder', 'tags': ['school', 'general', 'organization'], 'price': {'$numberDecimal': '14.16'}, 'quantity': 3}]</td>\n",
              "      <td>Denver</td>\n",
              "      <td>{'gender': 'M', 'age': 42, 'email': 'cauho@witwuta.sv', 'satisfaction': 4}</td>\n",
              "      <td>True</td>\n",
              "      <td>Online</td>\n",
              "    </tr>\n",
              "    <tr>\n",
              "      <td>{'$oid': '5bd761dcae323e45a93ccfe9'}</td>\n",
              "      <td>{'$date': '2015-08-25T10:01:02.918Z'}</td>\n",
              "      <td>[{'name': 'envelopes', 'tags': ['stationary', 'office', 'general'], 'price': {'$numberDecimal': '8.05'}, 'quantity': 10}, {'name': 'binder', 'tags': ['school', 'general', 'organization'], 'price': {'$numberDecimal': '28.31'}, 'quantity': 9}, {'name': 'notepad', 'tags': ['office', 'writing', 'school'], 'price': {'$numberDecimal': '20.95'}, 'quantity': 3}, {'name': 'laptop', 'tags': ['electronics', 'school', 'office'], 'price': {'$numberDecimal': '866.5'}, 'quantity': 4}, {'name': 'notepad', 'tags': ['office', 'writing', 'school'], 'price': {'$numberDecimal': '33.09'}, 'quantity': 4}, {'name': 'printer paper', 'tags': ['office', 'stationary'], 'price': {'$numberDecimal': '37.55'}, 'quantity': 1}, {'name': 'backpack', 'tags': ['school', 'travel', 'kids'], 'price': {'$numberDecimal': '83.28'}, 'quantity': 2}, {'name': 'pens', 'tags': ['writing', 'office', 'school', 'stationary'], 'price': {'$numberDecimal': '42.9'}, 'quantity': 4}, {'name': 'envelopes', 'tags': ['stationary', 'office', 'general'], 'price': {'$numberDecimal': '16.68'}, 'quantity': 2}]</td>\n",
              "      <td>Seattle</td>\n",
              "      <td>{'gender': 'M', 'age': 50, 'email': 'keecade@hem.uy', 'satisfaction': 5}</td>\n",
              "      <td>False</td>\n",
              "      <td>Phone</td>\n",
              "    </tr>\n",
              "    <tr>\n",
              "      <td>{'$oid': '5bd761dcae323e45a93ccfea'}</td>\n",
              "      <td>{'$date': '2017-06-22T09:54:14.185Z'}</td>\n",
              "      <td>[{'name': 'notepad', 'tags': ['office', 'writing', 'school'], 'price': {'$numberDecimal': '30.08'}, 'quantity': 1}, {'name': 'binder', 'tags': ['school', 'general', 'organization'], 'price': {'$numberDecimal': '24.68'}, 'quantity': 7}, {'name': 'notepad', 'tags': ['office', 'writing', 'school'], 'price': {'$numberDecimal': '32.1'}, 'quantity': 4}, {'name': 'pens', 'tags': ['writing', 'office', 'school', 'stationary'], 'price': {'$numberDecimal': '31.41'}, 'quantity': 3}, {'name': 'printer paper', 'tags': ['office', 'stationary'], 'price': {'$numberDecimal': '43.56'}, 'quantity': 3}, {'name': 'pens', 'tags': ['writing', 'office', 'school', 'stationary'], 'price': {'$numberDecimal': '68.95'}, 'quantity': 4}, {'name': 'notepad', 'tags': ['office', 'writing', 'school'], 'price': {'$numberDecimal': '8.57'}, 'quantity': 4}, {'name': 'backpack', 'tags': ['school', 'travel', 'kids'], 'price': {'$numberDecimal': '106.6'}, 'quantity': 2}, {'name': 'laptop', 'tags': ['electronics', 'school', 'office'], 'price': {'$numberDecimal': '596.33'}, 'quantity': 4}]</td>\n",
              "      <td>Denver</td>\n",
              "      <td>{'gender': 'M', 'age': 51, 'email': 'worbiduh@vowbu.cg', 'satisfaction': 5}</td>\n",
              "      <td>False</td>\n",
              "      <td>In store</td>\n",
              "    </tr>\n",
              "    <tr>\n",
              "      <td>{'$oid': '5bd761dcae323e45a93ccfeb'}</td>\n",
              "      <td>{'$date': '2015-02-23T09:53:59.343Z'}</td>\n",
              "      <td>[{'name': 'binder', 'tags': ['school', 'general', 'organization'], 'price': {'$numberDecimal': '20.08'}, 'quantity': 1}, {'name': 'pens', 'tags': ['writing', 'office', 'school', 'stationary'], 'price': {'$numberDecimal': '23.08'}, 'quantity': 4}, {'name': 'backpack', 'tags': ['school', 'travel', 'kids'], 'price': {'$numberDecimal': '82.73'}, 'quantity': 2}, {'name': 'printer paper', 'tags': ['office', 'stationary'], 'price': {'$numberDecimal': '15.98'}, 'quantity': 3}, {'name': 'notepad', 'tags': ['office', 'writing', 'school'], 'price': {'$numberDecimal': '27.24'}, 'quantity': 4}, {'name': 'notepad', 'tags': ['office', 'writing', 'school'], 'price': {'$numberDecimal': '27.7'}, 'quantity': 5}, {'name': 'pens', 'tags': ['writing', 'office', 'school', 'stationary'], 'price': {'$numberDecimal': '59.86'}, 'quantity': 5}, {'name': 'binder', 'tags': ['school', 'general', 'organization'], 'price': {'$numberDecimal': '27.33'}, 'quantity': 9}, {'name': 'notepad', 'tags': ['office', 'writing', 'school'], 'price': {'$numberDecimal': '13.59'}, 'quantity': 1}]</td>\n",
              "      <td>Seattle</td>\n",
              "      <td>{'gender': 'F', 'age': 45, 'email': 'vatires@ta.pe', 'satisfaction': 3}</td>\n",
              "      <td>False</td>\n",
              "      <td>In store</td>\n",
              "    </tr>\n",
              "    <tr>\n",
              "      <td>{'$oid': '5bd761dcae323e45a93ccfec'}</td>\n",
              "      <td>{'$date': '2017-12-03T18:39:48.253Z'}</td>\n",
              "      <td>[{'name': 'backpack', 'tags': ['school', 'travel', 'kids'], 'price': {'$numberDecimal': '127.59'}, 'quantity': 3}, {'name': 'notepad', 'tags': ['office', 'writing', 'school'], 'price': {'$numberDecimal': '17.6'}, 'quantity': 4}, {'name': 'binder', 'tags': ['school', 'general', 'organization'], 'price': {'$numberDecimal': '18.67'}, 'quantity': 2}, {'name': 'pens', 'tags': ['writing', 'office', 'school', 'stationary'], 'price': {'$numberDecimal': '60.56'}, 'quantity': 3}, {'name': 'notepad', 'tags': ['office', 'writing', 'school'], 'price': {'$numberDecimal': '28.41'}, 'quantity': 1}, {'name': 'envelopes', 'tags': ['stationary', 'office', 'general'], 'price': {'$numberDecimal': '15.28'}, 'quantity': 7}, {'name': 'laptop', 'tags': ['electronics', 'school', 'office'], 'price': {'$numberDecimal': '1259.02'}, 'quantity': 3}]</td>\n",
              "      <td>London</td>\n",
              "      <td>{'gender': 'M', 'age': 40, 'email': 'dotzu@ib.sh', 'satisfaction': 4}</td>\n",
              "      <td>False</td>\n",
              "      <td>In store</td>\n",
              "    </tr>\n",
              "    <tr>\n",
              "      <td>{'$oid': '5bd761dcae323e45a93ccfed'}</td>\n",
              "      <td>{'$date': '2015-09-02T16:11:59.565Z'}</td>\n",
              "      <td>[{'name': 'binder', 'tags': ['school', 'general', 'organization'], 'price': {'$numberDecimal': '13.44'}, 'quantity': 8}, {'name': 'binder', 'tags': ['school', 'general', 'organization'], 'price': {'$numberDecimal': '16.66'}, 'quantity': 10}]</td>\n",
              "      <td>London</td>\n",
              "      <td>{'gender': 'M', 'age': 44, 'email': 'owtar@pu.cd', 'satisfaction': 2}</td>\n",
              "      <td>False</td>\n",
              "      <td>In store</td>\n",
              "    </tr>\n",
              "    <tr>\n",
              "      <td>{'$oid': '5bd761dcae323e45a93ccfee'}</td>\n",
              "      <td>{'$date': '2014-11-11T02:13:51.893Z'}</td>\n",
              "      <td>[{'name': 'laptop', 'tags': ['electronics', 'school', 'office'], 'price': {'$numberDecimal': '604.12'}, 'quantity': 4}, {'name': 'binder', 'tags': ['school', 'general', 'organization'], 'price': {'$numberDecimal': '11.05'}, 'quantity': 7}, {'name': 'binder', 'tags': ['school', 'general', 'organization'], 'price': {'$numberDecimal': '20.94'}, 'quantity': 5}, {'name': 'backpack', 'tags': ['school', 'travel', 'kids'], 'price': {'$numberDecimal': '61.16'}, 'quantity': 5}, {'name': 'notepad', 'tags': ['office', 'writing', 'school'], 'price': {'$numberDecimal': '29.81'}, 'quantity': 3}, {'name': 'printer paper', 'tags': ['office', 'stationary'], 'price': {'$numberDecimal': '31.19'}, 'quantity': 5}, {'name': 'pens', 'tags': ['writing', 'office', 'school', 'stationary'], 'price': {'$numberDecimal': '47.12'}, 'quantity': 1}, {'name': 'notepad', 'tags': ['office', 'writing', 'school'], 'price': {'$numberDecimal': '36.71'}, 'quantity': 2}, {'name': 'pens', 'tags': ['writing', 'office', 'school', 'stationary'], 'price': {'$numberDecimal': '69.28'}, 'quantity': 3}, {'name': 'notepad', 'tags': ['office', 'writing', 'school'], 'price': {'$numberDecimal': '14.05'}, 'quantity': 1}]</td>\n",
              "      <td>London</td>\n",
              "      <td>{'gender': 'F', 'age': 40, 'email': 'pan@cak.zm', 'satisfaction': 5}</td>\n",
              "      <td>False</td>\n",
              "      <td>In store</td>\n",
              "    </tr>\n",
              "    <tr>\n",
              "      <td>{'$oid': '5bd761dcae323e45a93ccfef'}</td>\n",
              "      <td>{'$date': '2014-03-31T16:02:06.624Z'}</td>\n",
              "      <td>[{'name': 'envelopes', 'tags': ['stationary', 'office', 'general'], 'price': {'$numberDecimal': '21.95'}, 'quantity': 8}, {'name': 'notepad', 'tags': ['office', 'writing', 'school'], 'price': {'$numberDecimal': '5.45'}, 'quantity': 5}, {'name': 'notepad', 'tags': ['office', 'writing', 'school'], 'price': {'$numberDecimal': '8.27'}, 'quantity': 4}, {'name': 'backpack', 'tags': ['school', 'travel', 'kids'], 'price': {'$numberDecimal': '87.13'}, 'quantity': 2}, {'name': 'envelopes', 'tags': ['stationary', 'office', 'general'], 'price': {'$numberDecimal': '11.79'}, 'quantity': 9}, {'name': 'pens', 'tags': ['writing', 'office', 'school', 'stationary'], 'price': {'$numberDecimal': '42.7'}, 'quantity': 4}, {'name': 'binder', 'tags': ['school', 'general', 'organization'], 'price': {'$numberDecimal': '23.71'}, 'quantity': 10}, {'name': 'laptop', 'tags': ['electronics', 'school', 'office'], 'price': {'$numberDecimal': '584.56'}, 'quantity': 5}, {'name': 'printer paper', 'tags': ['office', 'stationary'], 'price': {'$numberDecimal': '46.71'}, 'quantity': 7}, {'name': 'binder', 'tags': ['school', 'general', 'organization'], 'price': {'$numberDecimal': '21.22'}, 'quantity': 10}]</td>\n",
              "      <td>Austin</td>\n",
              "      <td>{'gender': 'M', 'age': 71, 'email': 'man@bob.mz', 'satisfaction': 3}</td>\n",
              "      <td>False</td>\n",
              "      <td>Online</td>\n",
              "    </tr>\n",
              "    <tr>\n",
              "      <td>{'$oid': '5bd761dcae323e45a93ccff0'}</td>\n",
              "      <td>{'$date': '2017-03-21T01:54:26.657Z'}</td>\n",
              "      <td>[{'name': 'envelopes', 'tags': ['stationary', 'office', 'general'], 'price': {'$numberDecimal': '16.97'}, 'quantity': 7}, {'name': 'notepad', 'tags': ['office', 'writing', 'school'], 'price': {'$numberDecimal': '11.92'}, 'quantity': 5}, {'name': 'laptop', 'tags': ['electronics', 'school', 'office'], 'price': {'$numberDecimal': '565.42'}, 'quantity': 4}, {'name': 'notepad', 'tags': ['office', 'writing', 'school'], 'price': {'$numberDecimal': '12.83'}, 'quantity': 3}, {'name': 'binder', 'tags': ['school', 'general', 'organization'], 'price': {'$numberDecimal': '11.82'}, 'quantity': 8}, {'name': 'envelopes', 'tags': ['stationary', 'office', 'general'], 'price': {'$numberDecimal': '24.57'}, 'quantity': 5}, {'name': 'pens', 'tags': ['writing', 'office', 'school', 'stationary'], 'price': {'$numberDecimal': '36.13'}, 'quantity': 5}, {'name': 'binder', 'tags': ['school', 'general', 'organization'], 'price': {'$numberDecimal': '14.44'}, 'quantity': 9}]</td>\n",
              "      <td>New York</td>\n",
              "      <td>{'gender': 'M', 'age': 26, 'email': 'rapifoozi@viupoen.bb', 'satisfaction': 5}</td>\n",
              "      <td>True</td>\n",
              "      <td>In store</td>\n",
              "    </tr>\n",
              "    <tr>\n",
              "      <td>{'$oid': '5bd761dcae323e45a93ccff1'}</td>\n",
              "      <td>{'$date': '2014-08-18T04:37:26.849Z'}</td>\n",
              "      <td>[{'name': 'pens', 'tags': ['writing', 'office', 'school', 'stationary'], 'price': {'$numberDecimal': '26.64'}, 'quantity': 2}, {'name': 'laptop', 'tags': ['electronics', 'school', 'office'], 'price': {'$numberDecimal': '1217.84'}, 'quantity': 1}, {'name': 'notepad', 'tags': ['office', 'writing', 'school'], 'price': {'$numberDecimal': '19.45'}, 'quantity': 2}, {'name': 'notepad', 'tags': ['office', 'writing', 'school'], 'price': {'$numberDecimal': '22.33'}, 'quantity': 4}, {'name': 'binder', 'tags': ['school', 'general', 'organization'], 'price': {'$numberDecimal': '16.7'}, 'quantity': 7}, {'name': 'binder', 'tags': ['school', 'general', 'organization'], 'price': {'$numberDecimal': '22.77'}, 'quantity': 9}, {'name': 'notepad', 'tags': ['office', 'writing', 'school'], 'price': {'$numberDecimal': '21.36'}, 'quantity': 4}, {'name': 'pens', 'tags': ['writing', 'office', 'school', 'stationary'], 'price': {'$numberDecimal': '69.88'}, 'quantity': 2}]</td>\n",
              "      <td>Denver</td>\n",
              "      <td>{'gender': 'M', 'age': 57, 'email': 'ohaguwu@nufub.gi', 'satisfaction': 3}</td>\n",
              "      <td>False</td>\n",
              "      <td>In store</td>\n",
              "    </tr>\n",
              "  </tbody>\n",
              "</table>"
            ],
            "text/plain": [
              "<IPython.core.display.HTML object>"
            ]
          },
          "metadata": {},
          "output_type": "display_data"
        }
      ],
      "source": [
        "from IPython.display import display, HTML\n",
        "\n",
        "# Assuming 'salesdf' is your DataFrame\n",
        "html_table = salesdf.head(10).to_html(classes='customtable', index=False)\n",
        "\n",
        "# Define custom CSS styles to color the header\n",
        "styles = \"\"\"\n",
        "    <style>\n",
        "        .customtable {\n",
        "            border-collapse: collapse;\n",
        "            width: 100%;\n",
        "        }\n",
        "        .customtable th {\n",
        "            background-color: #4e20ce; /* background color for header */\n",
        "            color: white; /* White text color for header */\n",
        "            border: 1px solid black;\n",
        "            padding: 8px;\n",
        "            text-align: left;\n",
        "        }\n",
        "        .customtable td {\n",
        "            border: 1px solid black;\n",
        "            padding: 8px;\n",
        "            text-align: left;\n",
        "        }\n",
        "    </style>\n",
        "\"\"\"\n",
        "\n",
        "# Display the HTML with custom styles\n",
        "display(HTML(styles + html_table))\n"
      ]
    }
  ],
  "metadata": {
    "colab": {
      "provenance": []
    },
    "kernelspec": {
      "display_name": "Python 3",
      "name": "python3"
    },
    "language_info": {
      "codemirror_mode": {
        "name": "ipython",
        "version": 3
      },
      "file_extension": ".py",
      "mimetype": "text/x-python",
      "name": "python",
      "nbconvert_exporter": "python",
      "pygments_lexer": "ipython3",
      "version": "3.11.5"
    }
  },
  "nbformat": 4,
  "nbformat_minor": 0
}
